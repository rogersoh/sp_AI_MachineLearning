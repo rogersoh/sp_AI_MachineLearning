{
 "cells": [
  {
   "cell_type": "code",
   "execution_count": null,
   "id": "717ea59c",
   "metadata": {},
   "outputs": [],
   "source": [
    "grid_forest_bselect = GridSearchCV(bestSelectPipe,\n",
    "                          param_grid = param_grid_forest,\n",
    "                          scoring= scoring_metric,\n",
    "                          n_jobs = -1,\n",
    "                          cv = kf,\n",
    "                          verbose=1\n",
    "                          )\n",
    "start_time = time.time()\n",
    "grid_forest_bselect.fit(X_train, y_train)\n",
    "print(\"Time taken sec\", time.time() - start_time)\n",
    "\n",
    "summary = evaluate_model(grid_forest_bselect, X_test, y_test, y_train, title = \"Random Forest Regressor Best select pipeline\")\n",
    "summaries.append(summary)\n",
    "pd.DataFrame(summaries).sort_values(by=\"r2\", ascending=False)"
   ]
  }
 ],
 "metadata": {
  "language_info": {
   "name": "python"
  }
 },
 "nbformat": 4,
 "nbformat_minor": 5
}
