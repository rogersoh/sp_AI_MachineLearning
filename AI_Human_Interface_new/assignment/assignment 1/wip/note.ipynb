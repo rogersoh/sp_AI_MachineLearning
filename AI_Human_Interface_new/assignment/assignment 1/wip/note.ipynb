{
 "cells": [
  {
   "cell_type": "markdown",
   "id": "11289de2",
   "metadata": {},
   "source": [
    "Max pooling"
   ]
  },
  {
   "cell_type": "code",
   "execution_count": null,
   "id": "8eead81e",
   "metadata": {},
   "outputs": [],
   "source": [
    "for ii in range(result.shape[0]):\n",
    "  for jj in range(result.shape[1]):\n",
    "    result[ii, jj] = np.max(im[ii*2:ii*2=2, jj*2:jj*2+2])"
   ]
  },
  {
   "cell_type": "code",
   "execution_count": null,
   "id": "63e4c9ca",
   "metadata": {},
   "outputs": [],
   "source": [
    "from keras.models import Sequential\n",
    "from keras.layers import Denser, Conv2D, Flatten, MaxPool2D\n",
    "model = Sequential()\n",
    "model.add(Conv20(5, kernel_size=(3, 3), activation='relu', \n",
    "                 input_shape=(img_rows, img_cols, 1)))\n",
    "model.add(MaxPool(2))\n",
    "model.add(Conv2D(15, kernel_size =3, activation=\"relu\",\n",
    "                 input_shape=(img_rows, img_cols, 1)))\n",
    "model.add(MaxPool2D(2))\n",
    "model.add(Flatten())\n",
    "model.add(Dense(3, activation='softmax'))"
   ]
  }
 ],
 "metadata": {
  "language_info": {
   "name": "python"
  }
 },
 "nbformat": 4,
 "nbformat_minor": 5
}
