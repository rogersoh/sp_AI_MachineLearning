{
 "cells": [
  {
   "cell_type": "code",
   "execution_count": 2,
   "id": "85b0f61d-214e-4784-a32e-3991f9c67285",
   "metadata": {},
   "outputs": [
    {
     "name": "stdout",
     "output_type": "stream",
     "text": [
      "Tensorflow/Keras: 3.9.2\n",
      "pandas: 2.2.2\n",
      "numpy: 1.26.4\n",
      "sklearn: 1.5.1\n",
      "matplotlib: 3.9.2\n"
     ]
    }
   ],
   "source": [
    "# Tensorflow / Keras\n",
    "import tensorflow as tf # used to access argmax function\n",
    "from tensorflow import keras # for building Neural Networks\n",
    "print('Tensorflow/Keras: %s' % keras.__version__) # print version\n",
    "from keras.models import Sequential # for creating a linear stack of layers for our Neural Network\n",
    "from keras import Input # for instantiating a keras tensor\n",
    "from keras.layers import Dense, Conv2D, MaxPool2D, Flatten, Dropout # for adding Concolutional and densely-connected NN layers.\n",
    "\n",
    "# Data manipulation\n",
    "import pandas as pd # for data manipulation\n",
    "print('pandas: %s' % pd.__version__) # print version\n",
    "import numpy as np # for data manipulation\n",
    "print('numpy: %s' % np.__version__) # print version\n",
    "\n",
    "# Sklearn\n",
    "import sklearn # for model evaluation\n",
    "print('sklearn: %s' % sklearn.__version__) # print version\n",
    "from sklearn.model_selection import train_test_split # for splitting the data into train and test samples\n",
    "from sklearn.metrics import classification_report # for model evaluation metrics\n",
    "from sklearn.preprocessing import OrdinalEncoder # for encoding labels\n",
    "\n",
    "# Visualization\n",
    "# import cv2 # for ingesting images\n",
    "# print('OpenCV: %s' % cv2.__version__) # print version\n",
    "import matplotlib \n",
    "import matplotlib.pyplot as plt # for showing images\n",
    "print('matplotlib: %s' % matplotlib.__version__) # print version\n",
    "\n",
    "# Other utilities\n",
    "import sys\n",
    "import os"
   ]
  },
  {
   "cell_type": "code",
   "execution_count": 4,
   "id": "bd8d6bcf-3716-480d-a486-8bfca2cf72b2",
   "metadata": {},
   "outputs": [
    {
     "ename": "FileNotFoundError",
     "evalue": "[Errno 2] No such file or directory: '/Users/sohengkhiong/Library/CloudStorage/OneDrive-SharedLibraries-onedrive/Documents/sp course statistic/sp_AI_MachineLearning/AI Human Interface/resource/data/101_ObjectCategories/dalmatian'",
     "output_type": "error",
     "traceback": [
      "\u001b[0;31m---------------------------------------------------------------------------\u001b[0m",
      "\u001b[0;31mFileNotFoundError\u001b[0m                         Traceback (most recent call last)",
      "Cell \u001b[0;32mIn[4], line 14\u001b[0m\n\u001b[1;32m     12\u001b[0m ListLabels\u001b[38;5;241m=\u001b[39m[]\n\u001b[1;32m     13\u001b[0m \u001b[38;5;28;01mfor\u001b[39;00m label \u001b[38;5;129;01min\u001b[39;00m LABELS:\n\u001b[0;32m---> 14\u001b[0m     \u001b[38;5;28;01mfor\u001b[39;00m image \u001b[38;5;129;01min\u001b[39;00m \u001b[38;5;28mlist\u001b[39m(os\u001b[38;5;241m.\u001b[39mlistdir(ImgLocation\u001b[38;5;241m+\u001b[39mlabel)):\n\u001b[1;32m     15\u001b[0m         ImagePaths\u001b[38;5;241m=\u001b[39mImagePaths\u001b[38;5;241m+\u001b[39m[ImgLocation\u001b[38;5;241m+\u001b[39mlabel\u001b[38;5;241m+\u001b[39m\u001b[38;5;124m\"\u001b[39m\u001b[38;5;124m/\u001b[39m\u001b[38;5;124m\"\u001b[39m\u001b[38;5;241m+\u001b[39mimage]\n\u001b[1;32m     16\u001b[0m         ListLabels\u001b[38;5;241m=\u001b[39mListLabels\u001b[38;5;241m+\u001b[39m[label]\n",
      "\u001b[0;31mFileNotFoundError\u001b[0m: [Errno 2] No such file or directory: '/Users/sohengkhiong/Library/CloudStorage/OneDrive-SharedLibraries-onedrive/Documents/sp course statistic/sp_AI_MachineLearning/AI Human Interface/resource/data/101_ObjectCategories/dalmatian'"
     ]
    }
   ],
   "source": [
    "# Assign main directory to a variable\n",
    "main_dir=os.path.dirname(sys.path[0])\n",
    "#print(main_dir)\n",
    "# Specify the location of images after you have downloaded them\n",
    "ImgLocation=main_dir+\"/data/101_ObjectCategories/\"\n",
    "\n",
    "# List image categories we are interested in\n",
    "LABELS = set([\"dalmatian\", \"hedgehog\", \"llama\", \"panda\"])\n",
    "\n",
    "# Create two lists to contain image paths and image labels\n",
    "ImagePaths=[]\n",
    "ListLabels=[]\n",
    "for label in LABELS:\n",
    "    for image in list(os.listdir(ImgLocation+label)):\n",
    "        ImagePaths=ImagePaths+[ImgLocation+label+\"/\"+image]\n",
    "        ListLabels=ListLabels+[label]\n",
    "\n",
    "# Load images and resize to be a fixed 128x128 pixels, ignoring original aspect ratio\n",
    "data=[]\n",
    "for img in ImagePaths:\n",
    "    image = cv2.imread(img)\n",
    "    image = cv2.resize(image, (128, 128))\n",
    "    data.append(image)\n",
    "\n",
    "# Convert image data to numpy array and standardize values (divide by 255 since RGB values ranges from 0 to 255)\n",
    "data = np.array(data, dtype=\"float\") / 255.0\n",
    "\n",
    "# Show data shape\n",
    "print(\"Shape of whole data: \", data.shape)\n",
    "\n",
    "# Convert Labels list to numpy array\n",
    "LabelsArray=np.array(ListLabels)\n",
    "\n",
    "# Encode labels \n",
    "enc = OrdinalEncoder()\n",
    "y=enc.fit_transform(LabelsArray.reshape(-1,1))\n",
    "\n",
    "# ---- Create training and testing samples ---\n",
    "X_train, X_test, y_train, y_test = train_test_split(data, y, test_size=0.2, random_state=0)\n",
    "y_train=y_train.reshape(-1,1)\n",
    "y_test=y_test.reshape(-1,1)\n",
    "\n",
    "# Print shapes\n",
    "# Note, model input must have a four-dimensional shape [samples, rows, columns, channels]\n",
    "print(\"Shape of X_train: \", X_train.shape)\n",
    "print(\"Shape of y_train: \", y_train.shape)\n",
    "print(\"Shape of X_test: \", X_test.shape)\n",
    "print(\"Shape of y_test: \", y_test.shape)\n",
    "\n",
    "# Display images of 10 animals in the training set and their true labels\n",
    "fig, axs = plt.subplots(2, 5, sharey=False, tight_layout=True, figsize=(12,6), facecolor='white')\n",
    "n=0\n",
    "for i in range(0,2):\n",
    "    for j in range(0,5):\n",
    "        axs[i,j].matshow(X_train[n])\n",
    "        axs[i,j].set(title=enc.inverse_transform(y_train)[n])\n",
    "        n=n+1\n",
    "plt.show()"
   ]
  },
  {
   "cell_type": "code",
   "execution_count": null,
   "id": "908400ae-c46d-496b-a56a-9b8b25f50848",
   "metadata": {},
   "outputs": [],
   "source": []
  }
 ],
 "metadata": {
  "kernelspec": {
   "display_name": "Python [conda env:base] *",
   "language": "python",
   "name": "conda-base-py"
  },
  "language_info": {
   "codemirror_mode": {
    "name": "ipython",
    "version": 3
   },
   "file_extension": ".py",
   "mimetype": "text/x-python",
   "name": "python",
   "nbconvert_exporter": "python",
   "pygments_lexer": "ipython3",
   "version": "3.12.7"
  }
 },
 "nbformat": 4,
 "nbformat_minor": 5
}
