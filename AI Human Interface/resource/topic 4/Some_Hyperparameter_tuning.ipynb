{
  "nbformat": 4,
  "nbformat_minor": 0,
  "metadata": {
    "colab": {
      "provenance": [],
      "gpuType": "T4"
    },
    "kernelspec": {
      "name": "python3",
      "display_name": "Python 3"
    },
    "language_info": {
      "name": "python"
    },
    "accelerator": "GPU"
  },
  "cells": [
    {
      "cell_type": "markdown",
      "source": [
        "# 1) CIFAR-100 dataset and visualize it\n",
        "\n",
        "Step 1: Import necessary libraries for loading the dataset and visualization.\n",
        "\n",
        "Step 2: Load the CIFAR-100 dataset using a library like TensorFlow.\n",
        "\n",
        "Step 3: Select a few images and their corresponding labels from the dataset.\n",
        "\n",
        "Step 4: Use a plotting library like Matplotlib to display the selected images with their labels."
      ],
      "metadata": {
        "id": "eExej6HLa9K8"
      }
    },
    {
      "source": [
        "import tensorflow as tf\n",
        "from tensorflow.keras.datasets import cifar100\n",
        "import matplotlib.pyplot as plt\n",
        "import numpy as np\n",
        "\n",
        "# Load the CIFAR-100 dataset\n",
        "(x_train, y_train), (x_test, y_test) = cifar100.load_data()\n",
        "\n",
        "# Select a few images and labels\n",
        "num_images_to_show = 5\n",
        "random_indices = np.random.choice(len(x_train), num_images_to_show, replace=False)\n",
        "\n",
        "plt.figure(figsize=(10, 2))\n",
        "for i, idx in enumerate(random_indices):\n",
        "    plt.subplot(1, num_images_to_show, i + 1)\n",
        "    plt.imshow(x_train[idx])\n",
        "    plt.title(f\"Label: {y_train[idx][0]}\") # CIFAR-100 labels are nested arrays\n",
        "    plt.axis('off')\n",
        "plt.show()"
      ],
      "cell_type": "code",
      "metadata": {
        "colab": {
          "base_uri": "https://localhost:8080/",
          "height": 229
        },
        "id": "ozMLiVaDa7dk",
        "outputId": "8efc4c77-300c-40a2-8c5d-bcce0493ed6d"
      },
      "execution_count": null,
      "outputs": [
        {
          "output_type": "stream",
          "name": "stdout",
          "text": [
            "Downloading data from https://www.cs.toronto.edu/~kriz/cifar-100-python.tar.gz\n",
            "\u001b[1m169001437/169001437\u001b[0m \u001b[32m━━━━━━━━━━━━━━━━━━━━\u001b[0m\u001b[37m\u001b[0m \u001b[1m4s\u001b[0m 0us/step\n"
          ]
        },
        {
          "output_type": "display_data",
          "data": {
            "text/plain": [
              "<Figure size 1000x200 with 5 Axes>"
            ],
            "image/png": "[encoded data removed]"
          },
          "metadata": {}
        }
      ]
    },
    {
      "cell_type": "markdown",
      "source": [
        "# 2) A basic CNN trained on the CIFAR-100 dataset\n",
        "\n",
        "Step 1: Define a simple CNN model architecture using a framework like TensorFlow/Keras. This would typically include convolutional layers, pooling layers, and dense layers.\n",
        "\n",
        "Step 2: Compile the model, specifying an optimizer, loss function, and metrics.\n",
        "\n",
        "Step 3: Train the model on the training data for a few epochs."
      ],
      "metadata": {
        "id": "8vjtXPgLbDpB"
      }
    },
    {
      "source": [
        "from tensorflow.keras.models import Sequential\n",
        "from tensorflow.keras.layers import Conv2D, MaxPooling2D, Flatten, Dense\n",
        "\n",
        "# Define the basic CNN model\n",
        "model_base = Sequential([\n",
        "    Conv2D(32, (3, 3), activation='relu', input_shape=(32, 32, 3)),\n",
        "    MaxPooling2D((2, 2)),\n",
        "    Conv2D(64, (3, 3), activation='relu'),\n",
        "    MaxPooling2D((2, 2)),\n",
        "    Conv2D(64, (3, 3), activation='relu'),\n",
        "    Flatten(),\n",
        "    Dense(64, activation='relu'),\n",
        "    Dense(100, activation='softmax') # 100 classes for CIFAR-100\n",
        "])\n",
        "\n",
        "# Compile the model\n",
        "model_base.compile(optimizer='adam',\n",
        "              loss=tf.keras.losses.SparseCategoricalCrossentropy(),\n",
        "              metrics=['accuracy'])\n",
        "\n",
        "# Train the model (for a short period for demonstration)\n",
        "history_base = model_base.fit(x_train, y_train, epochs=1, validation_data=(x_test, y_test))"
      ],
      "cell_type": "code",
      "metadata": {
        "colab": {
          "base_uri": "https://localhost:8080/"
        },
        "id": "WuLfUd6pbCzS",
        "outputId": "9072b46c-807b-4b51-bdea-f86d00647c49"
      },
      "execution_count": null,
      "outputs": [
        {
          "output_type": "stream",
          "name": "stderr",
          "text": [
            "/usr/local/lib/python3.11/dist-packages/keras/src/layers/convolutional/base_conv.py:107: UserWarning: Do not pass an `input_shape`/`input_dim` argument to a layer. When using Sequential models, prefer using an `Input(shape)` object as the first layer in the model instead.\n",
            "  super().__init__(activity_regularizer=activity_regularizer, **kwargs)\n"
          ]
        },
        {
          "output_type": "stream",
          "name": "stdout",
          "text": [
            "\u001b[1m1563/1563\u001b[0m \u001b[32m━━━━━━━━━━━━━━━━━━━━\u001b[0m\u001b[37m\u001b[0m \u001b[1m14s\u001b[0m 6ms/step - accuracy: 0.0084 - loss: 5.1933 - val_accuracy: 0.0100 - val_loss: 4.6052\n"
          ]
        }
      ]
    },
    {
      "cell_type": "markdown",
      "source": [
        "# 3) Show options of tuning learning rate and compare output with the base model\n",
        "\n",
        "Step 1: Define a function to create and compile a model with a given learning rate.\n",
        "\n",
        "Step 2: Train models with different learning rates.\n",
        "\n",
        "Step 3: Compare the training and validation performance (e.g., accuracy, loss) of models trained with different learning rates against the base model's performance."
      ],
      "metadata": {
        "id": "WrIvtKozbIbp"
      }
    },
    {
      "source": [
        "from tensorflow.keras.optimizers import Adam\n",
        "\n",
        "def create_model_with_lr(learning_rate):\n",
        "    model = Sequential([\n",
        "        Conv2D(32, (3, 3), activation='relu', input_shape=(32, 32, 3)),\n",
        "        MaxPooling2D((2, 2)),\n",
        "        Conv2D(64, (3, 3), activation='relu'),\n",
        "        MaxPooling2D((2, 2)),\n",
        "        Conv2D(64, (3, 3), activation='relu'),\n",
        "        Flatten(),\n",
        "        Dense(64, activation='relu'),\n",
        "        Dense(100, activation='softmax')\n",
        "    ])\n",
        "    model.compile(optimizer=Adam(learning_rate=learning_rate),\n",
        "                  loss=tf.keras.losses.SparseCategoricalCrossentropy(),\n",
        "                  metrics=['accuracy'])\n",
        "    return model\n",
        "\n",
        "# Train models with different learning rates\n",
        "learning_rates = [0.01, 0.001, 0.0001]\n",
        "histories_lr = {}\n",
        "\n",
        "for lr in learning_rates:\n",
        "    print(f\"Training with learning rate: {lr}\")\n",
        "    model_lr = create_model_with_lr(lr)\n",
        "    histories_lr[lr] = model_lr.fit(x_train, y_train, epochs=1, validation_data=(x_test, y_test), verbose=0)\n",
        "\n",
        "# Compare performance (you would typically plot the history)\n",
        "print(\"\\nComparison of models with different learning rates:\")\n",
        "for lr, history in histories_lr.items():\n",
        "    print(f\"LR: {lr} - Val Accuracy: {history.history['val_accuracy'][-1]:.4f}\")\n",
        "print(f\"Base Model - Val Accuracy: {history_base.history['val_accuracy'][-1]:.4f}\")"
      ],
      "cell_type": "code",
      "metadata": {
        "colab": {
          "base_uri": "https://localhost:8080/"
        },
        "id": "YPYfGr85bHGn",
        "outputId": "78984266-d436-4060-a8aa-a17557fcafb5"
      },
      "execution_count": null,
      "outputs": [
        {
          "output_type": "stream",
          "name": "stdout",
          "text": [
            "Training with learning rate: 0.01\n",
            "Training with learning rate: 0.001\n",
            "Training with learning rate: 0.0001\n",
            "\n",
            "Comparison of models with different learning rates:\n",
            "LR: 0.01 - Val Accuracy: 0.0100\n",
            "LR: 0.001 - Val Accuracy: 0.0525\n",
            "LR: 0.0001 - Val Accuracy: 0.0103\n",
            "Base Model - Val Accuracy: 0.0100\n"
          ]
        }
      ]
    },
    {
      "cell_type": "markdown",
      "source": [
        "# 4) Show options of tuning batch size and compare output with the base model\n",
        "\n",
        "Step 1: Define a function to create and compile the model (batch size is a fit parameter).\n",
        "\n",
        "Step 2: Train the model with different batch sizes.\n",
        "\n",
        "Step 3: Compare the training and validation performance of models trained with different batch sizes."
      ],
      "metadata": {
        "id": "oOugh9LQbO0-"
      }
    },
    {
      "source": [
        "def create_basic_model():\n",
        "    model = Sequential([\n",
        "        Conv2D(32, (3, 3), activation='relu', input_shape=(32, 32, 3)),\n",
        "        MaxPooling2D((2, 2)),\n",
        "        Conv2D(64, (3, 3), activation='relu'),\n",
        "        MaxPooling2D((2, 2)),\n",
        "        Conv2D(64, (3, 3), activation='relu'),\n",
        "        Flatten(),\n",
        "        Dense(64, activation='relu'),\n",
        "        Dense(100, activation='softmax')\n",
        "    ])\n",
        "    model.compile(optimizer='adam',\n",
        "                  loss=tf.keras.losses.SparseCategoricalCrossentropy(),\n",
        "                  metrics=['accuracy'])\n",
        "    return model\n",
        "\n",
        "# Train models with different batch sizes\n",
        "batch_sizes = [8, 16, 32, 64]\n",
        "histories_bs = {}\n",
        "\n",
        "for bs in batch_sizes:\n",
        "    print(f\"Training with batch size: {bs}\")\n",
        "    model_bs = create_basic_model()\n",
        "    histories_bs[bs] = model_bs.fit(x_train, y_train, epochs=1, batch_size=bs, validation_data=(x_test, y_test), verbose=0)\n",
        "\n",
        "# Compare performance\n",
        "print(\"\\nComparison of models with different batch sizes:\")\n",
        "for bs, history in histories_bs.items():\n",
        "    print(f\"Batch Size: {bs} - Val Accuracy: {history.history['val_accuracy'][-1]:.4f}\")\n",
        "print(f\"Base Model - Val Accuracy: {history_base.history['val_accuracy'][-1]:.4f}\")"
      ],
      "cell_type": "code",
      "metadata": {
        "colab": {
          "base_uri": "https://localhost:8080/"
        },
        "id": "bVfYZk8RbNOa",
        "outputId": "ce5c3066-9c19-4aee-c442-49a10accbda8"
      },
      "execution_count": null,
      "outputs": [
        {
          "output_type": "stream",
          "name": "stdout",
          "text": [
            "Training with batch size: 8\n",
            "Training with batch size: 16\n",
            "Training with batch size: 32\n",
            "Training with batch size: 64\n",
            "\n",
            "Comparison of models with different batch sizes:\n",
            "Batch Size: 8 - Val Accuracy: 0.0542\n",
            "Batch Size: 16 - Val Accuracy: 0.0100\n",
            "Batch Size: 32 - Val Accuracy: 0.0781\n",
            "Batch Size: 64 - Val Accuracy: 0.0895\n",
            "Base Model - Val Accuracy: 0.0100\n"
          ]
        }
      ]
    },
    {
      "cell_type": "markdown",
      "source": [
        "# 5) Show options of tuning regularization and compare output with the base model\n",
        "\n",
        "Step 1: Define a function to create and compile a model with different regularization techniques (e.g., L2 regularization on kernel weights).\n",
        "\n",
        "Step 2: Train models with different regularization strengths or types.\n",
        "\n",
        "Step 3: Compare the training and validation performance of models trained with and without regularization."
      ],
      "metadata": {
        "id": "Zba8eYFTbUdj"
      }
    },
    {
      "source": [
        "from tensorflow.keras.regularizers import l2\n",
        "\n",
        "def create_model_with_regularization(reg_strength=0.0):\n",
        "    model = Sequential([\n",
        "        Conv2D(32, (3, 3), activation='relu', input_shape=(32, 32, 3), kernel_regularizer=l2(reg_strength)),\n",
        "        MaxPooling2D((2, 2)),\n",
        "        Conv2D(64, (3, 3), activation='relu', kernel_regularizer=l2(reg_strength)),\n",
        "        MaxPooling2D((2, 2)),\n",
        "        Conv2D(64, (3, 3), activation='relu', kernel_regularizer=l2(reg_strength)),\n",
        "        Flatten(),\n",
        "        Dense(64, activation='relu', kernel_regularizer=l2(reg_strength)),\n",
        "        Dense(100, activation='softmax')\n",
        "    ])\n",
        "    model.compile(optimizer='adam',\n",
        "                  loss=tf.keras.losses.SparseCategoricalCrossentropy(),\n",
        "                  metrics=['accuracy'])\n",
        "    return model\n",
        "\n",
        "# Train models with different regularization strengths\n",
        "reg_strengths = [0.0, 0.001, 0.01] # 0.0 is no regularization\n",
        "histories_reg = {}\n",
        "\n",
        "for reg_strength in reg_strengths:\n",
        "    print(f\"Training with regularization strength: {reg_strength}\")\n",
        "    model_reg = create_model_with_regularization(reg_strength)\n",
        "    histories_reg[reg_strength] = model_reg.fit(x_train, y_train, epochs=1, validation_data=(x_test, y_test), verbose=0)\n",
        "\n",
        "# Compare performance\n",
        "print(\"\\nComparison of models with different regularization strengths:\")\n",
        "for reg_strength, history in histories_reg.items():\n",
        "    print(f\"Reg Strength: {reg_strength} - Val Accuracy: {history.history['val_accuracy'][-1]:.4f}\")\n",
        "print(f\"Base Model - Val Accuracy: {history_base.history['val_accuracy'][-1]:.4f}\")"
      ],
      "cell_type": "code",
      "metadata": {
        "colab": {
          "base_uri": "https://localhost:8080/"
        },
        "id": "anr5O-SpbSxd",
        "outputId": "20ed3ce0-4145-4aba-db8b-aa40d6279aa5"
      },
      "execution_count": null,
      "outputs": [
        {
          "output_type": "stream",
          "name": "stdout",
          "text": [
            "Training with regularization strength: 0.0\n",
            "Training with regularization strength: 0.001\n",
            "Training with regularization strength: 0.01\n",
            "\n",
            "Comparison of models with different regularization strengths:\n",
            "Reg Strength: 0.0 - Val Accuracy: 0.0100\n",
            "Reg Strength: 0.001 - Val Accuracy: 0.0100\n",
            "Reg Strength: 0.01 - Val Accuracy: 0.1328\n",
            "Base Model - Val Accuracy: 0.0100\n"
          ]
        }
      ]
    },
    {
      "cell_type": "markdown",
      "source": [
        "# 6) Show grid search\n",
        "\n",
        "Step 1: Define the hyperparameters and their possible values to search over.\n",
        "\n",
        "Step 2: Use a library like Scikit-learn's GridSearchCV or build a custom grid search loop.\n",
        "\n",
        "Step 3: For each combination of hyperparameters, train a model and evaluate its performance.\n",
        "\n",
        "Step 4: Identify the best combination of hyperparameters based on a chosen metric (e.g., validation accuracy)."
      ],
      "metadata": {
        "id": "heMmXYoHbYoe"
      }
    },
    {
      "source": [
        "from sklearn.model_selection import ParameterGrid\n",
        "\n",
        "# Define the hyperparameter grid\n",
        "param_grid = {'learning_rate': [0.001, 0.0001], 'batch_size': [64, 128]}\n",
        "\n",
        "best_accuracy = 0\n",
        "best_params = None\n",
        "\n",
        "# Perform grid search\n",
        "for params in ParameterGrid(param_grid):\n",
        "    print(f\"\\nTraining with params: {params}\")\n",
        "\n",
        "    model_gs = create_model_with_lr(params['learning_rate']) # Using the function from LR tuning\n",
        "    history_gs = model_gs.fit(x_train, y_train, epochs=1, batch_size=params['batch_size'], validation_data=(x_test, y_test), verbose=0)\n",
        "\n",
        "    val_accuracy = history_gs.history['val_accuracy'][-1]\n",
        "\n",
        "    if val_accuracy > best_accuracy:\n",
        "        best_accuracy = val_accuracy\n",
        "        best_params = params\n",
        "\n",
        "print(f\"\\nBest hyperparameters: {best_params}\")\n",
        "print(f\"Best validation accuracy: {best_accuracy:.4f}\")"
      ],
      "cell_type": "code",
      "metadata": {
        "colab": {
          "base_uri": "https://localhost:8080/"
        },
        "id": "TZKEVCIPbXAT",
        "outputId": "984e8196-fc28-44fb-eca2-b143865caf90"
      },
      "execution_count": null,
      "outputs": [
        {
          "output_type": "stream",
          "name": "stdout",
          "text": [
            "\n",
            "Training with params: {'batch_size': 64, 'learning_rate': 0.001}\n",
            "\n",
            "Training with params: {'batch_size': 64, 'learning_rate': 0.0001}\n",
            "\n",
            "Training with params: {'batch_size': 128, 'learning_rate': 0.001}\n",
            "\n",
            "Training with params: {'batch_size': 128, 'learning_rate': 0.0001}\n",
            "\n",
            "Best hyperparameters: {'batch_size': 128, 'learning_rate': 0.0001}\n",
            "Best validation accuracy: 0.0163\n"
          ]
        }
      ]
    }
  ]
}