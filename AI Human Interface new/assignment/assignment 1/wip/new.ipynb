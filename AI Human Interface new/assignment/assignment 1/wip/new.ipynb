{
 "cells": [
  {
   "cell_type": "code",
   "execution_count": 14,
   "id": "6757c780",
   "metadata": {},
   "outputs": [
    {
     "name": "stdout",
     "output_type": "stream",
     "text": [
      "Epoch 1/10\n",
      "240/240 - 3s - 14ms/step - accuracy: 0.9119 - loss: 0.3004 - val_accuracy: 0.9713 - val_loss: 0.1041\n",
      "Epoch 2/10\n",
      "240/240 - 3s - 13ms/step - accuracy: 0.9731 - loss: 0.0895 - val_accuracy: 0.9795 - val_loss: 0.0704\n",
      "Epoch 3/10\n",
      "240/240 - 3s - 13ms/step - accuracy: 0.9820 - loss: 0.0601 - val_accuracy: 0.9839 - val_loss: 0.0571\n",
      "Epoch 4/10\n",
      "240/240 - 3s - 12ms/step - accuracy: 0.9854 - loss: 0.0472 - val_accuracy: 0.9851 - val_loss: 0.0496\n",
      "Epoch 5/10\n",
      "240/240 - 3s - 12ms/step - accuracy: 0.9883 - loss: 0.0386 - val_accuracy: 0.9862 - val_loss: 0.0469\n",
      "Epoch 6/10\n",
      "240/240 - 3s - 12ms/step - accuracy: 0.9903 - loss: 0.0316 - val_accuracy: 0.9868 - val_loss: 0.0485\n",
      "Epoch 7/10\n",
      "240/240 - 3s - 12ms/step - accuracy: 0.9915 - loss: 0.0279 - val_accuracy: 0.9865 - val_loss: 0.0441\n",
      "Epoch 8/10\n",
      "240/240 - 3s - 12ms/step - accuracy: 0.9934 - loss: 0.0214 - val_accuracy: 0.9871 - val_loss: 0.0469\n",
      "Epoch 9/10\n",
      "240/240 - 3s - 12ms/step - accuracy: 0.9934 - loss: 0.0197 - val_accuracy: 0.9865 - val_loss: 0.0465\n",
      "Epoch 10/10\n",
      "240/240 - 3s - 12ms/step - accuracy: 0.9951 - loss: 0.0157 - val_accuracy: 0.9877 - val_loss: 0.0473\n",
      "CNN Error: 1.16%\n"
     ]
    }
   ],
   "source": [
    "# baseline CNN Model\n",
    "\n",
    "import numpy\n",
    "import tensorflow as tf\n",
    "from tensorflow import keras\n",
    "from tensorflow.keras.models import Sequential\n",
    "from tensorflow.keras.layers import Conv2D, MaxPooling2D, Flatten, Dense, Dropout\n",
    "from tensorflow.keras.datasets import mnist\n",
    "\n",
    "\n",
    "# fix random seed for reproducibility\n",
    "seed = 1\n",
    "numpy.random.seed(seed)\n",
    "\n",
    "# load data\n",
    "(X_train, y_train), (X_test, y_test) = mnist.load_data()\n",
    "# reshape to be [samples][pixels][width][height]\n",
    "X_train = X_train.reshape(X_train.shape[0], 28, 28, 1).astype('float32')\n",
    "X_test = X_test.reshape(X_test.shape[0], 28, 28, 1).astype('float32')\n",
    "\n",
    "# normalize inputs from 0-255 to 0-1\n",
    "X_train = X_train / 255\n",
    "X_test = X_test / 255\n",
    "# one hot encode outputs\n",
    "# y_train = np_utils.to_categorical(y_train)\n",
    "# y_test = np_utils.to_categorical(y_test)\n",
    "# num_classes = y_test.shape[1]\n",
    "\n",
    "# build the model\n",
    "# create model\n",
    "model = Sequential()\n",
    "model.add(Conv2D(32, (5, 5), input_shape=(28, 28, 1), activation='relu'))\n",
    "model.add(MaxPooling2D(pool_size=(2, 2)))\n",
    "model.add(Dropout(0.2))\n",
    "model.add(Flatten())\n",
    "model.add(Dense(128, activation='relu'))\n",
    "model.add(Dense(10, activation='softmax'))\n",
    "# Compile model\n",
    "model.compile(loss='sparse_categorical_crossentropy', \n",
    "              optimizer='adam', metrics=['accuracy'])\n",
    "\n",
    "# Fit the model\n",
    "model.fit(X_train, y_train, validation_split=0.2, verbose=2,\n",
    "          epochs=10, batch_size=200)\n",
    "# Final evaluation of the model\n",
    "scores = model.evaluate(X_test, y_test, verbose=0)\n",
    "print(\"CNN Error: %.2f%%\" % (100-scores[1]*100))\n"
   ]
  },
  {
   "cell_type": "code",
   "execution_count": 9,
   "id": "67a4cd70",
   "metadata": {},
   "outputs": [
    {
     "data": {
      "text/plain": [
       "[0.041485268622636795, 0.9883999824523926]"
      ]
     },
     "execution_count": 9,
     "metadata": {},
     "output_type": "execute_result"
    }
   ],
   "source": [
    "scores"
   ]
  },
  {
   "cell_type": "code",
   "execution_count": 19,
   "id": "92331101",
   "metadata": {},
   "outputs": [],
   "source": [
    "import tensorflow as tf\n",
    "import tensorflow_datasets as tfds\n",
    "import matplotlib.pyplot as plt\n"
   ]
  },
  {
   "cell_type": "code",
   "execution_count": 20,
   "id": "d1771069",
   "metadata": {},
   "outputs": [
    {
     "name": "stderr",
     "output_type": "stream",
     "text": [
      "WARNING:absl:Variant folder /Users/sohengkhiong/tensorflow_datasets/cifar100/3.0.2 has no dataset_info.json\n"
     ]
    },
    {
     "name": "stdout",
     "output_type": "stream",
     "text": [
      "\u001b[1mDownloading and preparing dataset Unknown size (download: Unknown size, generated: Unknown size, total: Unknown size) to /Users/sohengkhiong/tensorflow_datasets/cifar100/3.0.2...\u001b[0m\n"
     ]
    },
    {
     "data": {
      "application/vnd.jupyter.widget-view+json": {
       "model_id": "fe55d9d2057642f5948ff74e217ce87a",
       "version_major": 2,
       "version_minor": 0
      },
      "text/plain": [
       "Dl Completed...: 0 url [00:00, ? url/s]"
      ]
     },
     "metadata": {},
     "output_type": "display_data"
    },
    {
     "data": {
      "application/vnd.jupyter.widget-view+json": {
       "model_id": "86a3b5ccdbfb4c5fa71253d4acc613d0",
       "version_major": 2,
       "version_minor": 0
      },
      "text/plain": [
       "Dl Size...: 0 MiB [00:00, ? MiB/s]"
      ]
     },
     "metadata": {},
     "output_type": "display_data"
    },
    {
     "data": {
      "application/vnd.jupyter.widget-view+json": {
       "model_id": "bf6898284593436fa6ae4c0b4022b1ed",
       "version_major": 2,
       "version_minor": 0
      },
      "text/plain": [
       "Extraction completed...: 0 file [00:00, ? file/s]"
      ]
     },
     "metadata": {},
     "output_type": "display_data"
    },
    {
     "data": {
      "application/vnd.jupyter.widget-view+json": {
       "model_id": "f6c0b82927f34f1eb9844afbda61a40b",
       "version_major": 2,
       "version_minor": 0
      },
      "text/plain": [
       "Generating splits...:   0%|          | 0/2 [00:00<?, ? splits/s]"
      ]
     },
     "metadata": {},
     "output_type": "display_data"
    },
    {
     "data": {
      "application/vnd.jupyter.widget-view+json": {
       "model_id": "9f8e79eba46043bb93a9030ad2ea65b6",
       "version_major": 2,
       "version_minor": 0
      },
      "text/plain": [
       "Generating train examples...: 0 examples [00:00, ? examples/s]"
      ]
     },
     "metadata": {},
     "output_type": "display_data"
    },
    {
     "data": {
      "application/vnd.jupyter.widget-view+json": {
       "model_id": "e1019750ea5948c293231f62327f9357",
       "version_major": 2,
       "version_minor": 0
      },
      "text/plain": [
       "Shuffling /Users/sohengkhiong/tensorflow_datasets/cifar100/incomplete.LS56Z3_3.0.2/cifar100-train.tfrecord*...…"
      ]
     },
     "metadata": {},
     "output_type": "display_data"
    },
    {
     "data": {
      "application/vnd.jupyter.widget-view+json": {
       "model_id": "9e573c82eac04b6bb3169b6129913e02",
       "version_major": 2,
       "version_minor": 0
      },
      "text/plain": [
       "Generating test examples...: 0 examples [00:00, ? examples/s]"
      ]
     },
     "metadata": {},
     "output_type": "display_data"
    },
    {
     "data": {
      "application/vnd.jupyter.widget-view+json": {
       "model_id": "605b563d89494cc480054e796e6e70a4",
       "version_major": 2,
       "version_minor": 0
      },
      "text/plain": [
       "Shuffling /Users/sohengkhiong/tensorflow_datasets/cifar100/incomplete.LS56Z3_3.0.2/cifar100-test.tfrecord*...:…"
      ]
     },
     "metadata": {},
     "output_type": "display_data"
    },
    {
     "name": "stdout",
     "output_type": "stream",
     "text": [
      "\u001b[1mDataset cifar100 downloaded and prepared to /Users/sohengkhiong/tensorflow_datasets/cifar100/3.0.2. Subsequent calls will reuse this data.\u001b[0m\n"
     ]
    }
   ],
   "source": [
    "# load the CIFAR-100 DATASET\n",
    "(ds_train, ds_test), ds_info = tfds.load(\n",
    "    'cifar100',\n",
    "    split=['train', 'test'],\n",
    "    shuffle_files=True,\n",
    "    as_supervised=True,\n",
    "    with_info=True\n",
    ")"
   ]
  },
  {
   "cell_type": "code",
   "execution_count": 21,
   "id": "2c6616fa",
   "metadata": {},
   "outputs": [],
   "source": [
    "# Preprocess the data (convert to float32 and batch)\n",
    "def preprocess(image, label):\n",
    "    image = tf.image.convert_image_dtype(image, tf.float32)\n",
    "    return image, label\n",
    "\n",
    "ds_train = ds_train.map(preprocess).batch(32)\n",
    "ds_test = ds_test.map(preprocess).batch(32)\n"
   ]
  },
  {
   "cell_type": "code",
   "execution_count": 22,
   "id": "b29d432e",
   "metadata": {},
   "outputs": [
    {
     "name": "stdout",
     "output_type": "stream",
     "text": [
      "Original Data Examples:\n"
     ]
    },
    {
     "name": "stderr",
     "output_type": "stream",
     "text": [
      "2025-06-05 11:11:47.484043: I tensorflow/core/kernels/data/tf_record_dataset_op.cc:387] The default buffer size is 262144, which is overridden by the user specified `buffer_size` of 8388608\n",
      "2025-06-05 11:11:47.513325: W tensorflow/core/kernels/data/cache_dataset_ops.cc:916] The calling iterator did not fully read the dataset being cached. In order to avoid unexpected truncation of the dataset, the partially cached contents of the dataset  will be discarded. This can happen if you have an input pipeline similar to `dataset.cache().take(k).repeat()`. You should use `dataset.take(k).cache().repeat()` instead.\n",
      "2025-06-05 11:11:47.515318: I tensorflow/core/framework/local_rendezvous.cc:407] Local rendezvous is aborting with status: OUT_OF_RANGE: End of sequence\n"
     ]
    },
    {
     "data": {
      "image/png": "[encoded data removed]",
      "text/plain": [
       "<Figure size 1000x1000 with 9 Axes>"
      ]
     },
     "metadata": {},
     "output_type": "display_data"
    }
   ],
   "source": [
    "# Display some images from the dataset\n",
    "print(\"Original Data Examples:\")\n",
    "plt.figure(figsize=(10, 10))\n",
    "for i, (image, label) in enumerate(ds_train.take(1).unbatch().take(9)):\n",
    "    plt.subplot(3, 3, i + 1)\n",
    "    plt.imshow(image) #CIFAR -100 IMAGES ARE COLOR\n",
    "    plt.title(f'Label: {label.numpy()}') # NOTE: Labels are coarse labels in CIFAR-100\n",
    "    plt.axis('off')\n",
    "plt.show()"
   ]
  },
  {
   "cell_type": "markdown",
   "id": "3488c8f7",
   "metadata": {},
   "source": [
    "# Step 2:\n",
    "A basic CNN that is being trained on the CIFAR-100 dataset"
   ]
  },
  {
   "cell_type": "code",
   "execution_count": 24,
   "id": "633c3b80",
   "metadata": {},
   "outputs": [
    {
     "name": "stdout",
     "output_type": "stream",
     "text": [
      "\n",
      "Training model without data augmentation (CIFAR-100) ...\n",
      "Epoch 1/10\n"
     ]
    },
    {
     "name": "stderr",
     "output_type": "stream",
     "text": [
      "/Users/sohengkhiong/anaconda3/lib/python3.12/site-packages/keras/src/layers/convolutional/base_conv.py:107: UserWarning: Do not pass an `input_shape`/`input_dim` argument to a layer. When using Sequential models, prefer using an `Input(shape)` object as the first layer in the model instead.\n",
      "  super().__init__(activity_regularizer=activity_regularizer, **kwargs)\n"
     ]
    },
    {
     "name": "stdout",
     "output_type": "stream",
     "text": [
      "\u001b[1m1563/1563\u001b[0m \u001b[32m━━━━━━━━━━━━━━━━━━━━\u001b[0m\u001b[37m\u001b[0m \u001b[1m7s\u001b[0m 5ms/step - accuracy: 0.1499 - loss: 3.7822 - val_accuracy: 0.2846 - val_loss: 3.0379\n",
      "Epoch 2/10\n",
      "\u001b[1m1563/1563\u001b[0m \u001b[32m━━━━━━━━━━━━━━━━━━━━\u001b[0m\u001b[37m\u001b[0m \u001b[1m7s\u001b[0m 4ms/step - accuracy: 0.3384 - loss: 2.7353 - val_accuracy: 0.3059 - val_loss: 2.9342\n",
      "Epoch 3/10\n",
      "\u001b[1m1563/1563\u001b[0m \u001b[32m━━━━━━━━━━━━━━━━━━━━\u001b[0m\u001b[37m\u001b[0m \u001b[1m7s\u001b[0m 4ms/step - accuracy: 0.4095 - loss: 2.4036 - val_accuracy: 0.3171 - val_loss: 2.9228\n",
      "Epoch 4/10\n",
      "\u001b[1m1563/1563\u001b[0m \u001b[32m━━━━━━━━━━━━━━━━━━━━\u001b[0m\u001b[37m\u001b[0m \u001b[1m7s\u001b[0m 5ms/step - accuracy: 0.4643 - loss: 2.1525 - val_accuracy: 0.3232 - val_loss: 2.9472\n",
      "Epoch 5/10\n",
      "\u001b[1m1563/1563\u001b[0m \u001b[32m━━━━━━━━━━━━━━━━━━━━\u001b[0m\u001b[37m\u001b[0m \u001b[1m7s\u001b[0m 5ms/step - accuracy: 0.5176 - loss: 1.9352 - val_accuracy: 0.3246 - val_loss: 3.0056\n",
      "Epoch 6/10\n",
      "\u001b[1m1563/1563\u001b[0m \u001b[32m━━━━━━━━━━━━━━━━━━━━\u001b[0m\u001b[37m\u001b[0m \u001b[1m7s\u001b[0m 5ms/step - accuracy: 0.5653 - loss: 1.7396 - val_accuracy: 0.3218 - val_loss: 3.0974\n",
      "Epoch 7/10\n",
      "\u001b[1m1563/1563\u001b[0m \u001b[32m━━━━━━━━━━━━━━━━━━━━\u001b[0m\u001b[37m\u001b[0m \u001b[1m7s\u001b[0m 4ms/step - accuracy: 0.6142 - loss: 1.5595 - val_accuracy: 0.3197 - val_loss: 3.2131\n",
      "Epoch 8/10\n",
      "\u001b[1m1563/1563\u001b[0m \u001b[32m━━━━━━━━━━━━━━━━━━━━\u001b[0m\u001b[37m\u001b[0m \u001b[1m7s\u001b[0m 5ms/step - accuracy: 0.6604 - loss: 1.3935 - val_accuracy: 0.3191 - val_loss: 3.3566\n",
      "Epoch 9/10\n",
      "\u001b[1m1563/1563\u001b[0m \u001b[32m━━━━━━━━━━━━━━━━━━━━\u001b[0m\u001b[37m\u001b[0m \u001b[1m7s\u001b[0m 5ms/step - accuracy: 0.7000 - loss: 1.2397 - val_accuracy: 0.3149 - val_loss: 3.5324\n",
      "Epoch 10/10\n",
      "\u001b[1m1563/1563\u001b[0m \u001b[32m━━━━━━━━━━━━━━━━━━━━\u001b[0m\u001b[37m\u001b[0m \u001b[1m7s\u001b[0m 5ms/step - accuracy: 0.7405 - loss: 1.0961 - val_accuracy: 0.3087 - val_loss: 3.7267\n"
     ]
    }
   ],
   "source": [
    "# Define a simple CNN model for CIFAR-100\n",
    "def build_model_cifar100():\n",
    "  model = Sequential()\n",
    "  model.add(Conv2D(32, (3, 3), activation='relu', input_shape=(32, 32, 3)))\n",
    "  model.add(MaxPooling2D((2, 2)))\n",
    "  model.add(Flatten())\n",
    "  model.add(Dense(100, activation='softmax'))  # 100 classes for CIFAR-100\n",
    "  model.compile(optimizer='adam',\n",
    "                loss='sparse_categorical_crossentropy',\n",
    "                metrics=['accuracy'])\n",
    "  return model\n",
    "\n",
    "# Train the model without data augmentation\n",
    "print(\"\\nTraining model without data augmentation (CIFAR-100) ...\")\n",
    "model_no_aug_cifar100 = build_model_cifar100()\n",
    "history_no_aug_cifar100 = model_no_aug_cifar100.fit(ds_train, epochs=10, validation_data = ds_test) # increase epochs slightly\n",
    "\n"
   ]
  }
 ],
 "metadata": {
  "kernelspec": {
   "display_name": "base",
   "language": "python",
   "name": "python3"
  },
  "language_info": {
   "codemirror_mode": {
    "name": "ipython",
    "version": 3
   },
   "file_extension": ".py",
   "mimetype": "text/x-python",
   "name": "python",
   "nbconvert_exporter": "python",
   "pygments_lexer": "ipython3",
   "version": "3.12.7"
  }
 },
 "nbformat": 4,
 "nbformat_minor": 5
}
